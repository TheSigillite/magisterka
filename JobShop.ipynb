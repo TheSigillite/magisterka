{
 "cells": [
  {
   "cell_type": "code",
   "execution_count": null,
   "metadata": {},
   "outputs": [],
   "source": [
    "#constraints\n",
    "# czas zakończenia operacji i na maszynie j >= \n",
    "#           czas zakończenia operacji i na maszynie k + czas przetważania operacji i na maszynie j\n",
    "#\n",
    "#\n",
    "# czas zakończenia operacji i na maszynie j >=\n",
    "#           czas zakończenia operacji k na maszynie j + czas przetważania operacji i na maszynie j"
   ]
  },
  {
   "cell_type": "code",
   "execution_count": null,
   "metadata": {},
   "outputs": [],
   "source": [
    "import numpy as np\n",
    "import pandas as pd\n",
    "import networkx as nx\n",
    "import traceback\n",
    "import os\n",
    "import matplotlib.pyplot as plt\n",
    "import math\n",
    "from ant_defs import Ant"
   ]
  },
  {
   "cell_type": "code",
   "execution_count": null,
   "metadata": {},
   "outputs": [],
   "source": [
    "def ASNextNodeSelection(graph: nx.DiGraph,viable_paths: list,visited: list,args: dict):\n",
    "    psum = 0\n",
    "    pvals = []\n",
    "    for node in viable_paths:\n",
    "        tmp = math.pow(graph[visited[-1]][node][\"heuristic\"],args['heuristic_preference']) + math.pow(graph[visited[-1]][node][\"pheromone\"],args['pheromone_preference'])\n",
    "        pvals.append(tmp)\n",
    "        psum = psum + tmp\n",
    "    pvals = [v/psum for v in pvals]\n",
    "    next_node = np.random.choice(a=viable_paths,p=pvals)\n",
    "    return next_node"
   ]
  },
  {
   "cell_type": "code",
   "execution_count": null,
   "metadata": {},
   "outputs": [],
   "source": [
    "machines_status = [True, True, True]\n",
    "machine_times = [0,0,0]\n",
    "job1 = [2,3,1]\n",
    "job2 = [1,2,3]\n",
    "job3 = [1,2,3]\n",
    "                    #m1, m2, m3  \n",
    "processing_times = [[3,  5, 3],#j1\n",
    "                    [2,  4, 3],#j2\n",
    "                    [1,  3, 4]]#j3 #0, m1j1, m1j2, m1j3\n",
    "                 #0, m1j1, m2j1, m3j1, m1j2, m2j2, m3j2, m1j3, m2j3, m3j3, fin\n",
    "graph_weights = [[0,  0,    5  ,  0  ,  2  ,  0  ,  0  ,  1  ,  0  ,  0  ,  0],\n",
    "                 []]\n",
    "\n",
    "\n"
   ]
  }
 ],
 "metadata": {
  "kernelspec": {
   "display_name": "Python 3.8.2 64-bit",
   "language": "python",
   "name": "python3"
  },
  "language_info": {
   "name": "python",
   "version": "3.8.2"
  },
  "orig_nbformat": 4,
  "vscode": {
   "interpreter": {
    "hash": "9650cb4e16cdd4a8e8e2d128bf38d875813998db22a3c986335f89e0cb4d7bb2"
   }
  }
 },
 "nbformat": 4,
 "nbformat_minor": 2
}
